{
 "cells": [
  {
   "cell_type": "code",
   "execution_count": 19,
   "metadata": {},
   "outputs": [
    {
     "name": "stdout",
     "output_type": "stream",
     "text": [
      "97,975,509\n",
      "42\n",
      "Social\n",
      "0\n",
      "Facebook\n"
     ]
    }
   ],
   "source": [
    "import time\n",
    "from selenium import webdriver\n",
    "from bs4 import BeautifulSoup\n",
    "import pandas as pd\n",
    "\n",
    "#Enter the path of the driver\n",
    "browser = webdriver.Chrome()\n",
    "\n",
    "# Tell Selenium to get the URL you're interested in.\n",
    "\n",
    "url = \"https://play.google.com/store/apps/details?id=com.facebook.katana&showAllReviews=true\"\n",
    "browser.get(url)\n",
    "SCROLL_PAUSE_TIME = 0.5\n",
    "\n",
    "time.sleep(5) # wait dom ready\n",
    "main_info = []\n",
    "page = browser.page_source\n",
    "soup_expatistan = BeautifulSoup(page, \"html.parser\")\n",
    "number_of_ratings = soup_expatistan.find(\"div\", class_=\"dNLKff\").find(\"span\", class_=\"AYi5wd\").find_next()['aria-label'];\n",
    "number_of_ratings = number_of_ratings.split(' ', 1)[0]\n",
    "overall_rating = soup_expatistan.find(\"div\", class_=\"dNLKff\").find(\"div\", class_=\"pf5lIe\").find_next()['aria-label'];\n",
    "overall_rating = overall_rating.split(' ', 1)[1]\n",
    "#overall_rating = overall_rating.split('(')[0]\n",
    "#overall_rating = ''.join(x for x in overall_rating if x.isdigit())\n",
    "category = soup_expatistan.find(\"div\", class_=\"qQKdcc\").find(\"a\", itemprop=\"genre\").text\n",
    "cost = soup_expatistan.find(\"span\", class_=\"oocvOe\").find_next()['aria-label'];\n",
    "app_name = soup_expatistan.find(\"h1\", class_=\"AHFaub\").find(\"span\").text\n",
    "if cost == \"Install\":\n",
    "    cost = 0\n",
    "else:\n",
    "    cost = cost.split(' ', 1)[0]\n",
    "\n",
    "main_info.append((number_of_ratings, overall_rating, category, cost))\n",
    "print(number_of_ratings)\n",
    "print(overall_rating)\n",
    "print(category)\n",
    "print(cost)\n",
    "print(name)\n",
    "#df1 = pd.DataFrame(main_info, columns=['number_of_ratings', 'overall_rating', 'category', 'cost'])\n",
    "#main_file_name = app_name + \"_main.csv\"\n",
    "#df1.to_csv(main_file_name, sep=\",\", index=False)"
   ]
  },
  {
   "cell_type": "code",
   "execution_count": null,
   "metadata": {},
   "outputs": [],
   "source": []
  }
 ],
 "metadata": {
  "kernelspec": {
   "display_name": "Python 3",
   "language": "python",
   "name": "python3"
  },
  "language_info": {
   "codemirror_mode": {
    "name": "ipython",
    "version": 3
   },
   "file_extension": ".py",
   "mimetype": "text/x-python",
   "name": "python",
   "nbconvert_exporter": "python",
   "pygments_lexer": "ipython3",
   "version": "3.7.3"
  }
 },
 "nbformat": 4,
 "nbformat_minor": 2
}
