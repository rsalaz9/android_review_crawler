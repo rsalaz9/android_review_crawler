{
 "cells": [
  {
   "cell_type": "code",
   "execution_count": 1,
   "metadata": {},
   "outputs": [],
   "source": [
    "import pandas as pd\n",
    "import matplotlib.pyplot as plt\n",
    "import os\n",
    "from pathlib import Path"
   ]
  },
  {
   "cell_type": "code",
   "execution_count": 2,
   "metadata": {},
   "outputs": [],
   "source": [
    "#Choose absolute path here\n",
    "folder_name = Path(r'C:\\Users\\Parth\\Documents\\540\\android_review_crawler\\Android_Xamarin_and_React_apps_reviews\\XamarinAppsReviews')\n",
    "file_name = 'main_info_new.csv'\n",
    "\n",
    "#Change this to folder name\n",
    "f_name = 'ReactAppsReviews'"
   ]
  },
  {
   "cell_type": "code",
   "execution_count": 3,
   "metadata": {},
   "outputs": [
    {
     "name": "stderr",
     "output_type": "stream",
     "text": [
      "D:\\Applications\\Anaconda3\\lib\\site-packages\\ipykernel_launcher.py:21: FutureWarning: Sorting because non-concatenation axis is not aligned. A future version\n",
      "of pandas will change to not sort by default.\n",
      "\n",
      "To accept the future behavior, pass 'sort=False'.\n",
      "\n",
      "To retain the current behavior and silence the warning, pass 'sort=True'.\n",
      "\n"
     ]
    }
   ],
   "source": [
    "combined_df = pd.DataFrame(columns = ['app_name', 'category', 'reviewer_ratings', 'review_body'])\n",
    "all_app_df = pd.DataFrame(columns=combined_df.columns)\n",
    "# Get all app names\n",
    "app_name_category_df = pd.read_csv(os.path.join(folder_name, file_name))\n",
    "\n",
    "# Skipping the main_info_new\n",
    "csv_list = [f for f in os.listdir(folder_name) if f.startswith('reviews')]\n",
    "for csv_name in csv_list:\n",
    "#       Get app name from file name\n",
    "    app_name = csv_name.split('reviews_')[1].split('.csv')[0]\n",
    "#         Get the ratings and reviews columns\n",
    "    df = pd.read_csv(os.path.join(folder_name, csv_name))[['reviewer_ratings', 'review_body']]\n",
    "#         Needed for merge\n",
    "    df ['key'] = 0\n",
    "#         Get category and file name from main_info_new. Add no of reviews here. \n",
    "    app_category = (app_name_category_df.loc[app_name_category_df['app_name'] == app_name])[['app_name', 'category', 'number_of_downloads']]\n",
    "    app_category['key'] = 0\n",
    "#         Inner join on both\n",
    "    combined_df = app_category.merge(df, how = 'inner', on = 'key')\n",
    "    combined_df.drop('key', 1, inplace = True)\n",
    "    all_app_df = pd.concat([all_app_df, combined_df])\n"
   ]
  },
  {
   "cell_type": "code",
   "execution_count": 14,
   "metadata": {},
   "outputs": [],
   "source": [
    "\n",
    "for index, row in all_app_df.iterrows():\n",
    "    if row['category'] in {'Communication', 'Photography', 'Medical', 'Music & Audio', 'Photography', 'Shopping', 'Tools', 'Travel & Local'}:\n",
    "        row['category'] = 'Utilities'\n",
    "    elif row['category'] in {'Education', 'Entertainment', 'Food & Drink', 'Health & Fitness', 'Lifestyle', 'Social', 'Sports'}:\n",
    "        row['category'] = 'Entertainment'\n",
    "    elif row['category'] in {'Business', 'Events', 'Finance', 'News & Magazines', 'Weather'}:\n",
    "        row['category'] = 'News'\n",
    "    elif row['category'] in {'Adventure','Board', 'Educational', 'Puzzle'}:\n",
    "        row['category'] = 'Games'\n",
    "    \n",
    "    #Update these values to whatever you need\n",
    "    if row['number_of_downloads'] in {'100+', '500+', '1,000+', '5,000+', '10,000+', '50,000+', '100000+', '100,000+'}:\n",
    "        row['number_of_downloads'] = '1'\n",
    "    elif row['number_of_downloads'] in {'500,000+', '5,000,000+', '1,000,000+'}:\n",
    "        row['number_of_downloads'] = '2'\n",
    "    elif row['number_of_downloads'] in {'10,000,000+', '50,000,000+', '100,000,000+'}:\n",
    "        row['number_of_downloads'] = '3'\n",
    "    elif row['number_of_downloads'] in {'500,000,000+','1,000,000,000+','5,000,000,000+'}:\n",
    "        row['number_of_downloads'] = '4'       "
   ]
  },
  {
   "cell_type": "code",
   "execution_count": 15,
   "metadata": {},
   "outputs": [
    {
     "name": "stdout",
     "output_type": "stream",
     "text": [
      "                                 app_name       category number_of_downloads  \\\n",
      "0                          99 Restaurants  Entertainment                   1   \n",
      "1                          99 Restaurants  Entertainment                   1   \n",
      "2                          99 Restaurants  Entertainment                   1   \n",
      "3                          99 Restaurants  Entertainment                   1   \n",
      "4                          99 Restaurants  Entertainment                   1   \n",
      "5                          99 Restaurants  Entertainment                   1   \n",
      "6                          99 Restaurants  Entertainment                   1   \n",
      "7                          99 Restaurants  Entertainment                   1   \n",
      "8                          99 Restaurants  Entertainment                   1   \n",
      "0                                 Aggreko           News                   1   \n",
      "1                                 Aggreko           News                   1   \n",
      "0     American Cancer Society FUNdraising  Entertainment                   1   \n",
      "1     American Cancer Society FUNdraising  Entertainment                   1   \n",
      "2     American Cancer Society FUNdraising  Entertainment                   1   \n",
      "3     American Cancer Society FUNdraising  Entertainment                   1   \n",
      "4     American Cancer Society FUNdraising  Entertainment                   1   \n",
      "5     American Cancer Society FUNdraising  Entertainment                   1   \n",
      "6     American Cancer Society FUNdraising  Entertainment                   1   \n",
      "7     American Cancer Society FUNdraising  Entertainment                   1   \n",
      "8     American Cancer Society FUNdraising  Entertainment                   1   \n",
      "9     American Cancer Society FUNdraising  Entertainment                   1   \n",
      "10    American Cancer Society FUNdraising  Entertainment                   1   \n",
      "11    American Cancer Society FUNdraising  Entertainment                   1   \n",
      "12    American Cancer Society FUNdraising  Entertainment                   1   \n",
      "13    American Cancer Society FUNdraising  Entertainment                   1   \n",
      "14    American Cancer Society FUNdraising  Entertainment                   1   \n",
      "15    American Cancer Society FUNdraising  Entertainment                   1   \n",
      "16    American Cancer Society FUNdraising  Entertainment                   1   \n",
      "17    American Cancer Society FUNdraising  Entertainment                   1   \n",
      "18    American Cancer Society FUNdraising  Entertainment                   1   \n",
      "...                                   ...            ...                 ...   \n",
      "7598                           UPS Mobile           News                   2   \n",
      "7599                           UPS Mobile           News                   2   \n",
      "0                             Velvet Taco  Entertainment                   1   \n",
      "1                             Velvet Taco  Entertainment                   1   \n",
      "2                             Velvet Taco  Entertainment                   1   \n",
      "3                             Velvet Taco  Entertainment                   1   \n",
      "4                             Velvet Taco  Entertainment                   1   \n",
      "5                             Velvet Taco  Entertainment                   1   \n",
      "6                             Velvet Taco  Entertainment                   1   \n",
      "7                             Velvet Taco  Entertainment                   1   \n",
      "8                             Velvet Taco  Entertainment                   1   \n",
      "9                             Velvet Taco  Entertainment                   1   \n",
      "10                            Velvet Taco  Entertainment                   1   \n",
      "11                            Velvet Taco  Entertainment                   1   \n",
      "12                            Velvet Taco  Entertainment                   1   \n",
      "13                            Velvet Taco  Entertainment                   1   \n",
      "14                            Velvet Taco  Entertainment                   1   \n",
      "15                            Velvet Taco  Entertainment                   1   \n",
      "16                            Velvet Taco  Entertainment                   1   \n",
      "17                            Velvet Taco  Entertainment                   1   \n",
      "18                            Velvet Taco  Entertainment                   1   \n",
      "19                            Velvet Taco  Entertainment                   1   \n",
      "20                            Velvet Taco  Entertainment                   1   \n",
      "0                            Zoup! Eatery  Entertainment                   1   \n",
      "1                            Zoup! Eatery  Entertainment                   1   \n",
      "2                            Zoup! Eatery  Entertainment                   1   \n",
      "3                            Zoup! Eatery  Entertainment                   1   \n",
      "4                            Zoup! Eatery  Entertainment                   1   \n",
      "5                            Zoup! Eatery  Entertainment                   1   \n",
      "6                            Zoup! Eatery  Entertainment                   1   \n",
      "\n",
      "                                            review_body reviewer_ratings  \n",
      "0      Latest update broke app for me. App crashes w...                1  \n",
      "1      Not in sync with restaurant wait time. 90 min...                1  \n",
      "2      Can't place order for later time, app crashes...                1  \n",
      "3                           Can't even download the app                1  \n",
      "4      They will not allow me to order take out. Say...                1  \n",
      "5      app does not allow you to order gold fever wi...                3  \n",
      "6             Never had a bad meal at the ,99 inconcord                5  \n",
      "7                                                   Gyy                3  \n",
      "8                                              <3 <3 <3                5  \n",
      "0                                  One word: Excellent!                5  \n",
      "1                      Awesome app! Great functionality                5  \n",
      "0      Libe this app... Make dinations on line even ...                5  \n",
      "1      Not as easy as past years. Not very user frie...                1  \n",
      "2            So easy and allows us to keep fundraising!                5  \n",
      "3      Works great for uploading donations and keepi...                5  \n",
      "4      The app won't start up. It's stuck on the loa...                1  \n",
      "5      This app needs to be all encompassing so that...                3  \n",
      "6      It's great but being on 2 teams you can only ...                4  \n",
      "7               Never loads, throws so many errors.....                1  \n",
      "8                 Love the app makes everything so easy                5  \n",
      "9      I don't get notified when I get a donation an...                3  \n",
      "10     Good for keeping track of donations since I'm...                1  \n",
      "11     Not user friendly. I personally haven't had a...                3  \n",
      "12     I have been able to use this app in years pas...                1  \n",
      "13     Way too many notifications. I keep turning th...                1  \n",
      "14     makes it super easy when people pay you cash ...                5  \n",
      "15     It keeps saying theres a required update to b...                3  \n",
      "16     very helpful ...learn more about fundraising,...                5  \n",
      "17     Great app, very convenient, fast account upda...                5  \n",
      "18     a wonderful way to get money to our rely for ...                4  \n",
      "...                                                 ...              ...  \n",
      "7598                             very useful, I love it                5  \n",
      "7599   Love UPS!!! My deliver guy is awesome. Always...                5  \n",
      "0      Of the many restaurant apps I use on a regula...                5  \n",
      "1      Fantastic concept all the way through deliver...                5  \n",
      "2      First order was good but orders last night an...                1  \n",
      "3      Store in Chicago is marked as closed in obser...                1  \n",
      "4                                             UNREAL!!!                5  \n",
      "5      I love Velvet Taco but the new location near ...                5  \n",
      "6      I like the app and it works quickly...but it ...                3  \n",
      "7      Great app for ordering, but it does not save ...                3  \n",
      "8      I run Favor and Uber orders from here. I deci...                5  \n",
      "9      Amazing tacos. Love the new location on Green...                5  \n",
      "10     Love app except can't figure out how to delet...                5  \n",
      "11     Best tacos around! Super friendly, and app is...                5  \n",
      "12     Easy app. Put a velvet 🌮 in South Grand Prair...                5  \n",
      "13                 Very useful app, saves so much time!                5  \n",
      "14     Was able to order using the app...best idea ever                5  \n",
      "15      Fast. Easy. You don't have to talk to a person.                5  \n",
      "16                                Freakin awesome tacos                5  \n",
      "17                                        Very nice app                5  \n",
      "18                                                Bravo                5  \n",
      "19                                   Awesome experience                5  \n",
      "20     This app works great. Downloaded it at the do...                5  \n",
      "0      Pick up works fine, delivery is forwarded to ...                1  \n",
      "1      Order came wrong. No obvious way within the a...                1  \n",
      "2      Can't verify email with spendgo so can't use ...                1  \n",
      "3      App submitted my order twice, ending up in a ...                1  \n",
      "4      My favourite soup at Zoup is North Indian Len...                5  \n",
      "5                             Lobster Bisque?!?! #Bruh!                5  \n",
      "6                         a superb soupy time, brethren                5  \n",
      "\n",
      "[26040 rows x 5 columns]\n"
     ]
    }
   ],
   "source": [
    "all_app_df.to_csv(f_name + '_combined.csv', index = False)\n",
    "\n",
    "print(all_app_df)"
   ]
  },
  {
   "cell_type": "code",
   "execution_count": 16,
   "metadata": {},
   "outputs": [
    {
     "data": {
      "text/plain": [
       "Food & Drink        19\n",
       "Lifestyle            9\n",
       "Business             8\n",
       "Medical              4\n",
       "Travel & Local       3\n",
       "Shopping             3\n",
       "Finance              3\n",
       "Productivity         2\n",
       "Music & Audio        1\n",
       "News & Magazines     1\n",
       "Weather              1\n",
       "Education            1\n",
       "Photography          1\n",
       "Name: category, dtype: int64"
      ]
     },
     "execution_count": 16,
     "metadata": {},
     "output_type": "execute_result"
    }
   ],
   "source": [
    "app_name_category_df['category'].value_counts()"
   ]
  },
  {
   "cell_type": "code",
   "execution_count": 17,
   "metadata": {
    "scrolled": true
   },
   "outputs": [
    {
     "data": {
      "text/plain": [
       "10,000+       15\n",
       "1,000+        13\n",
       "100,000+       8\n",
       "5,000+         7\n",
       "50,000+        4\n",
       "1,000,000+     3\n",
       "500+           3\n",
       "100000+        1\n",
       "5,000,000+     1\n",
       "100+           1\n",
       "Name: number_of_downloads, dtype: int64"
      ]
     },
     "execution_count": 17,
     "metadata": {},
     "output_type": "execute_result"
    }
   ],
   "source": [
    "app_name_category_df['number_of_downloads'].value_counts()"
   ]
  },
  {
   "cell_type": "code",
   "execution_count": null,
   "metadata": {},
   "outputs": [],
   "source": []
  }
 ],
 "metadata": {
  "kernelspec": {
   "display_name": "Python 3",
   "language": "python",
   "name": "python3"
  },
  "language_info": {
   "codemirror_mode": {
    "name": "ipython",
    "version": 3
   },
   "file_extension": ".py",
   "mimetype": "text/x-python",
   "name": "python",
   "nbconvert_exporter": "python",
   "pygments_lexer": "ipython3",
   "version": "3.7.3"
  }
 },
 "nbformat": 4,
 "nbformat_minor": 2
}
