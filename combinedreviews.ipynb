{
 "cells": [
  {
   "cell_type": "code",
   "execution_count": 1,
   "metadata": {},
   "outputs": [],
   "source": [
    "import pandas as pd\n",
    "import matplotlib.pyplot as plt\n",
    "import os"
   ]
  },
  {
   "cell_type": "code",
   "execution_count": 4,
   "metadata": {},
   "outputs": [],
   "source": [
    "folder_name = 'Xamarin_and_React_apps_reviews'\n",
    "# 'Native_android_apps_reviews'"
   ]
  },
  {
   "cell_type": "code",
   "execution_count": 9,
   "metadata": {},
   "outputs": [],
   "source": [
    "combined_df = pd.DataFrame(columns = ['app_name', 'category', 'reviewer_ratings', 'review_body'])\n",
    "all_app_df = pd.DataFrame(columns=combined_df.columns)\n",
    "# Get all app names\n",
    "app_name_category_df = pd.read_csv(folder_name + '\\\\' + 'main_info_new.csv')\n",
    "\n",
    "# Skipping the main_info_new\n",
    "csv_list = [f for f in os.listdir(folder_name) if f.startswith('reviews')]\n",
    "for csv_name in csv_list:\n",
    "#       Get app name from file name\n",
    "    app_name = csv_name.split('reviews_')[1].split('.csv')[0]\n",
    "#         Get the ratings and reviews columns\n",
    "    df = pd.read_csv(folder_name + '\\\\' + csv_name)[['reviewer_ratings', 'review_body']]\n",
    "#         Needed for merge\n",
    "    df ['key'] = 0\n",
    "#         Get category and file name from main_info_new. Add no of reviews here. \n",
    "    app_category = (app_name_category_df.loc[app_name_category_df['app_name'] == app_name])[['app_name', 'category']]\n",
    "    app_category['key'] = 0\n",
    "#         Inner join on both\n",
    "    combined_df = app_category.merge(df, how = 'inner', on = 'key')\n",
    "    combined_df.drop('key', 1, inplace = True)\n",
    "    all_app_df = pd.concat([all_app_df, combined_df])\n",
    "#all_app_df.to_csv(folder_name + '_combined.csv', index = False)\n",
    "#print(all_app_df)\n"
   ]
  },
  {
   "cell_type": "code",
   "execution_count": 10,
   "metadata": {},
   "outputs": [
    {
     "data": {
      "text/plain": [
       "Food & Drink        21\n",
       "Lifestyle           12\n",
       "Business            11\n",
       "Shopping             5\n",
       "Finance              4\n",
       "Communication        4\n",
       "Medical              4\n",
       "Productivity         4\n",
       "Tools                3\n",
       "Travel & Local       3\n",
       "News & Magazines     2\n",
       "Health & Fitness     2\n",
       "Education            2\n",
       "Social               2\n",
       "Weather              1\n",
       "Sports               1\n",
       "Music & Audio        1\n",
       "Events               1\n",
       "Adventure            1\n",
       "Board                1\n",
       "Photography          1\n",
       "Educational          1\n",
       "Puzzle               1\n",
       "Entertainment        1\n",
       "Name: category, dtype: int64"
      ]
     },
     "execution_count": 10,
     "metadata": {},
     "output_type": "execute_result"
    }
   ],
   "source": [
    "app_name_category_df['category'].value_counts()"
   ]
  },
  {
   "cell_type": "code",
   "execution_count": 11,
   "metadata": {},
   "outputs": [
    {
     "data": {
      "text/plain": [
       "10,000+           19\n",
       "1,000+            17\n",
       "100,000+          12\n",
       "5,000+             7\n",
       "50,000+            6\n",
       "1,000,000+         4\n",
       "500+               4\n",
       "5,000,000+         4\n",
       "500,000+           2\n",
       "50,000,000+        2\n",
       "1,000,000,000+     2\n",
       "100,000,000+       2\n",
       "100+               2\n",
       "50+                2\n",
       "10,000,000+        2\n",
       "5000000000+        1\n",
       "100000+            1\n",
       "Name: number_of_downloads, dtype: int64"
      ]
     },
     "execution_count": 11,
     "metadata": {},
     "output_type": "execute_result"
    }
   ],
   "source": [
    "app_name_category_df['number_of_downloads'].value_counts()"
   ]
  },
  {
   "cell_type": "code",
   "execution_count": null,
   "metadata": {},
   "outputs": [],
   "source": []
  }
 ],
 "metadata": {
  "kernelspec": {
   "display_name": "Python 3",
   "language": "python",
   "name": "python3"
  },
  "language_info": {
   "codemirror_mode": {
    "name": "ipython",
    "version": 3
   },
   "file_extension": ".py",
   "mimetype": "text/x-python",
   "name": "python",
   "nbconvert_exporter": "python",
   "pygments_lexer": "ipython3",
   "version": "3.7.3"
  }
 },
 "nbformat": 4,
 "nbformat_minor": 2
}
